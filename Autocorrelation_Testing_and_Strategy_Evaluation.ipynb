{
  "nbformat": 4,
  "nbformat_minor": 0,
  "metadata": {
    "colab": {
      "name": "Autocorrelation Testing and STrategy Evaluation.ipynb",
      "provenance": [],
      "toc_visible": true,
      "authorship_tag": "ABX9TyMQ7knRE9w5X+nwAHYFYfAr",
      "include_colab_link": true
    },
    "kernelspec": {
      "name": "python3",
      "display_name": "Python 3"
    }
  },
  "cells": [
    {
      "cell_type": "markdown",
      "metadata": {
        "id": "view-in-github",
        "colab_type": "text"
      },
      "source": [
        "<a href=\"https://colab.research.google.com/github/ap-1993/Trend-or-Momentum/blob/master/Autocorrelation_Testing_and_Strategy_Evaluation.ipynb\" target=\"_parent\"><img src=\"https://colab.research.google.com/assets/colab-badge.svg\" alt=\"Open In Colab\"/></a>"
      ]
    },
    {
      "cell_type": "code",
      "metadata": {
        "id": "-7LEzKblJwhq",
        "colab": {
          "base_uri": "https://localhost:8080/"
        },
        "outputId": "67d1d1c5-b8a4-432e-962f-6eade78d0a82"
      },
      "source": [
        "import numpy as np\n",
        "import pandas as pd\n",
        "import pandas_datareader as pdr\n",
        "import matplotlib.pyplot as plt\n",
        "import statsmodels.tsa.api as ts\n",
        "import statsmodels.graphics.tsaplots as tsplots \n",
        "from datetime import date"
      ],
      "execution_count": 1,
      "outputs": [
        {
          "output_type": "stream",
          "text": [
            "/usr/local/lib/python3.7/dist-packages/statsmodels/tools/_testing.py:19: FutureWarning: pandas.util.testing is deprecated. Use the functions in the public API at pandas.testing instead.\n",
            "  import pandas.util.testing as tm\n"
          ],
          "name": "stderr"
        }
      ]
    },
    {
      "cell_type": "code",
      "metadata": {
        "id": "i06RbYG6LMG5"
      },
      "source": [
        "def nature(tick,start_date, freq):\n",
        "  \"\"\"\n",
        "  Given a ticker symbol(as string), start-date, the freq('D','W','M', 'A'),\n",
        "  returns whether the series is mean_reverting \n",
        "  or trending for the given frequency for the given\n",
        "  time-period on the basis of statistically significant \n",
        "  1 -lag autocorrelation. End date is taken to be present date.\n",
        "  Returns: A string containing the nature and the autocorrelation \n",
        "  \"\"\"\n",
        "  df = pdr.data.DataReader(tick, start = start_date, end = str(date.today()), data_source = 'yahoo')\n",
        "  df['returns'] = (np.log(df['Adj Close'])).diff()\n",
        "  df = df.dropna()\n",
        "  df = df[['returns']]\n",
        "  \n",
        "  if freq == 'D':\n",
        "\n",
        "    ac = df['returns'].autocorr()\n",
        "    if ac >= 1.96/np.sqrt(len(df)) or ac <= -1.96/np.sqrt(len(df)):\n",
        "      if ac > 0:\n",
        "        return \"The return series is trending with daily autocorrelation of {}\".format(str(ac))\n",
        "      else:\n",
        "        return \"The return series is mean_reverting with daily autocorrelation of {}\".format(str(ac))\n",
        "    else:\n",
        "      return \"No statistically significant autocorrelation\"\n",
        "  \n",
        "  elif freq == \"W\":\n",
        "    df = df.resample(rule = 'W').agg(lambda x: np.prod(1 +x) - 1)\n",
        "    ac = df['returns'].autocorr()\n",
        "    if ac >= 1.96/np.sqrt(len(df)) or ac <= -1.96/np.sqrt(len(df)):\n",
        "      if ac > 0:\n",
        "        return \"The return series is trending with weekly autocorrelation of {}\".format(str(ac))\n",
        "      else:\n",
        "        return \"The return series is mean_reverting with weekly autocorrelation of {}\".format(str(ac))\n",
        "    else:\n",
        "      return \"No statistically significant autocorrelation\"\n",
        "\n",
        "  elif freq == \"M\":\n",
        "    df = df.resample(rule = 'M').agg(lambda x: np.prod(1 +x) - 1)\n",
        "    ac = df['returns'].autocorr()\n",
        "    if ac >= 1.96/np.sqrt(len(df)) or ac <= -1.96/np.sqrt(len(df)):\n",
        "      if ac > 0:\n",
        "        return \"The return series is trending with monthly autocorrelation of {}\".format(str(ac))\n",
        "      else:\n",
        "        return \"The return series is mean_reverting with monthly autocorrelation of {}\".format(str(ac))\n",
        "    else:\n",
        "      return \"No statistically significant autocorrelation\"\n",
        "\n",
        "  else:\n",
        "    df = df.resample(rule = 'A').agg(lambda x: np.prod(1 +x) - 1)\n",
        "    ac = df['returns'].autocorr()\n",
        "    if ac >= 1.96/np.sqrt(len(df)) or ac <= -1.96/np.sqrt(len(df)):\n",
        "      if ac > 0:\n",
        "        return \"The return series is trending with annual autocorrelation of {}\".format(str(ac))\n",
        "      else:\n",
        "        return \"The return series is mean_reverting with annual autocorrelation of {}\".format(str(ac))\n",
        "    else:\n",
        "      return \"No statistically significant autocorrelation\"\n",
        "  \n"
      ],
      "execution_count": 3,
      "outputs": []
    },
    {
      "cell_type": "code",
      "metadata": {
        "id": "5QcogfO7n5GS"
      },
      "source": [
        "def index(list_of_stocks, start_date, freq):\n",
        "  \"\"\"\n",
        "  Given a list of tickers, start date and frequency\n",
        "  calculates whether the series are trending or mean-reverting\n",
        "  Returns: A dataframe with ticker, nature of series, freq and autocorrelation.\n",
        "  \"\"\"\n",
        "  list_tickers = []\n",
        "  list_nature = []\n",
        "  list_freq = []\n",
        "  list_ac = []\n",
        "  for i in list_of_stocks:    \n",
        "    nat = nature(i,start_date, freq).split()\n",
        "    if 'No' not in nat:\n",
        "      list_tickers.append(i)\n",
        "      list_nature.append(nat[4].capitalize())\n",
        "      list_freq.append(freq)\n",
        "      list_ac.append(np.float(nat[9]))\n",
        "  return pd.DataFrame({\"Ticker\": list_tickers,\n",
        "                       \"Nature\": list_nature,\n",
        "                       \"Frequency\": list_freq\n",
        "                       }, columns = ['Ticker', 'Nature', 'Frequency']).join(pd.Series(list_ac, name = \"Auto-Correlation\"))"
      ],
      "execution_count": 4,
      "outputs": []
    },
    {
      "cell_type": "code",
      "metadata": {
        "id": "WejFbzZzNj8p",
        "colab": {
          "base_uri": "https://localhost:8080/",
          "height": 80
        },
        "outputId": "ba78ffdf-5d70-4334-dc1e-65f8ab2f6b70"
      },
      "source": [
        "auto_corrs = index(['AAPL', 'GOOG', 'MSFT', 'GC=F'], start_date='2000-01-01', freq = 'W')\n",
        "auto_corrs"
      ],
      "execution_count": 6,
      "outputs": [
        {
          "output_type": "execute_result",
          "data": {
            "text/html": [
              "<div>\n",
              "<style scoped>\n",
              "    .dataframe tbody tr th:only-of-type {\n",
              "        vertical-align: middle;\n",
              "    }\n",
              "\n",
              "    .dataframe tbody tr th {\n",
              "        vertical-align: top;\n",
              "    }\n",
              "\n",
              "    .dataframe thead th {\n",
              "        text-align: right;\n",
              "    }\n",
              "</style>\n",
              "<table border=\"1\" class=\"dataframe\">\n",
              "  <thead>\n",
              "    <tr style=\"text-align: right;\">\n",
              "      <th></th>\n",
              "      <th>Ticker</th>\n",
              "      <th>Nature</th>\n",
              "      <th>Frequency</th>\n",
              "      <th>Auto-Correlation</th>\n",
              "    </tr>\n",
              "  </thead>\n",
              "  <tbody>\n",
              "    <tr>\n",
              "      <th>0</th>\n",
              "      <td>AAPL</td>\n",
              "      <td>Trending</td>\n",
              "      <td>W</td>\n",
              "      <td>0.067692</td>\n",
              "    </tr>\n",
              "  </tbody>\n",
              "</table>\n",
              "</div>"
            ],
            "text/plain": [
              "  Ticker    Nature Frequency  Auto-Correlation\n",
              "0   AAPL  Trending         W          0.067692"
            ]
          },
          "metadata": {
            "tags": []
          },
          "execution_count": 6
        }
      ]
    },
    {
      "cell_type": "markdown",
      "metadata": {
        "id": "6wdDZhiI_Q0G"
      },
      "source": [
        "This means on the weekly level only MSFT and AAPL show statistically significant lag-1 auto-correlation. \n",
        " \n",
        "\n",
        "*   Negative autocorrelation means mean-reversion\n",
        "*   Positive autocorrelation means trending\n",
        "\n"
      ]
    },
    {
      "cell_type": "markdown",
      "metadata": {
        "id": "kbxqiDbNtXOR"
      },
      "source": [
        "#Back Testing the correlation using a momentum and mean-reverting strategy"
      ]
    },
    {
      "cell_type": "code",
      "metadata": {
        "id": "hNP0wPofOXzO",
        "colab": {
          "base_uri": "https://localhost:8080/",
          "height": 235
        },
        "outputId": "e0173437-f92d-4f14-ad9d-7f8e3b349ed8"
      },
      "source": [
        "df = pdr.data.DataReader([\"AAPL\", \"MSFT\"], \n",
        "                       start='2000-1-1', \n",
        "                       end = str(date.today()), \n",
        "                       data_source='yahoo')['Adj Close']\n",
        "                       \n",
        "df.head()"
      ],
      "execution_count": 26,
      "outputs": [
        {
          "output_type": "execute_result",
          "data": {
            "text/html": [
              "<div>\n",
              "<style scoped>\n",
              "    .dataframe tbody tr th:only-of-type {\n",
              "        vertical-align: middle;\n",
              "    }\n",
              "\n",
              "    .dataframe tbody tr th {\n",
              "        vertical-align: top;\n",
              "    }\n",
              "\n",
              "    .dataframe thead th {\n",
              "        text-align: right;\n",
              "    }\n",
              "</style>\n",
              "<table border=\"1\" class=\"dataframe\">\n",
              "  <thead>\n",
              "    <tr style=\"text-align: right;\">\n",
              "      <th>Symbols</th>\n",
              "      <th>AAPL</th>\n",
              "      <th>MSFT</th>\n",
              "    </tr>\n",
              "    <tr>\n",
              "      <th>Date</th>\n",
              "      <th></th>\n",
              "      <th></th>\n",
              "    </tr>\n",
              "  </thead>\n",
              "  <tbody>\n",
              "    <tr>\n",
              "      <th>2000-01-03</th>\n",
              "      <td>0.859423</td>\n",
              "      <td>37.017384</td>\n",
              "    </tr>\n",
              "    <tr>\n",
              "      <th>2000-01-04</th>\n",
              "      <td>0.786965</td>\n",
              "      <td>35.766914</td>\n",
              "    </tr>\n",
              "    <tr>\n",
              "      <th>2000-01-05</th>\n",
              "      <td>0.798481</td>\n",
              "      <td>36.144032</td>\n",
              "    </tr>\n",
              "    <tr>\n",
              "      <th>2000-01-06</th>\n",
              "      <td>0.729382</td>\n",
              "      <td>34.933285</td>\n",
              "    </tr>\n",
              "    <tr>\n",
              "      <th>2000-01-07</th>\n",
              "      <td>0.763932</td>\n",
              "      <td>35.389793</td>\n",
              "    </tr>\n",
              "  </tbody>\n",
              "</table>\n",
              "</div>"
            ],
            "text/plain": [
              "Symbols         AAPL       MSFT\n",
              "Date                           \n",
              "2000-01-03  0.859423  37.017384\n",
              "2000-01-04  0.786965  35.766914\n",
              "2000-01-05  0.798481  36.144032\n",
              "2000-01-06  0.729382  34.933285\n",
              "2000-01-07  0.763932  35.389793"
            ]
          },
          "metadata": {
            "tags": []
          },
          "execution_count": 26
        }
      ]
    },
    {
      "cell_type": "code",
      "metadata": {
        "id": "v7DkfR1qwknR",
        "colab": {
          "base_uri": "https://localhost:8080/",
          "height": 235
        },
        "outputId": "87cce6aa-9d6a-49da-8348-0075e40afd14"
      },
      "source": [
        "df.index = pd.to_datetime(df.index)\n",
        "df = df.resample('W').last()\n",
        "df.head()"
      ],
      "execution_count": 27,
      "outputs": [
        {
          "output_type": "execute_result",
          "data": {
            "text/html": [
              "<div>\n",
              "<style scoped>\n",
              "    .dataframe tbody tr th:only-of-type {\n",
              "        vertical-align: middle;\n",
              "    }\n",
              "\n",
              "    .dataframe tbody tr th {\n",
              "        vertical-align: top;\n",
              "    }\n",
              "\n",
              "    .dataframe thead th {\n",
              "        text-align: right;\n",
              "    }\n",
              "</style>\n",
              "<table border=\"1\" class=\"dataframe\">\n",
              "  <thead>\n",
              "    <tr style=\"text-align: right;\">\n",
              "      <th>Symbols</th>\n",
              "      <th>AAPL</th>\n",
              "      <th>MSFT</th>\n",
              "    </tr>\n",
              "    <tr>\n",
              "      <th>Date</th>\n",
              "      <th></th>\n",
              "      <th></th>\n",
              "    </tr>\n",
              "  </thead>\n",
              "  <tbody>\n",
              "    <tr>\n",
              "      <th>2000-01-09</th>\n",
              "      <td>0.763932</td>\n",
              "      <td>35.389793</td>\n",
              "    </tr>\n",
              "    <tr>\n",
              "      <th>2000-01-16</th>\n",
              "      <td>0.771129</td>\n",
              "      <td>35.647823</td>\n",
              "    </tr>\n",
              "    <tr>\n",
              "      <th>2000-01-23</th>\n",
              "      <td>0.854625</td>\n",
              "      <td>32.948444</td>\n",
              "    </tr>\n",
              "    <tr>\n",
              "      <th>2000-01-30</th>\n",
              "      <td>0.780247</td>\n",
              "      <td>31.201778</td>\n",
              "    </tr>\n",
              "    <tr>\n",
              "      <th>2000-02-06</th>\n",
              "      <td>0.829192</td>\n",
              "      <td>33.841614</td>\n",
              "    </tr>\n",
              "  </tbody>\n",
              "</table>\n",
              "</div>"
            ],
            "text/plain": [
              "Symbols         AAPL       MSFT\n",
              "Date                           \n",
              "2000-01-09  0.763932  35.389793\n",
              "2000-01-16  0.771129  35.647823\n",
              "2000-01-23  0.854625  32.948444\n",
              "2000-01-30  0.780247  31.201778\n",
              "2000-02-06  0.829192  33.841614"
            ]
          },
          "metadata": {
            "tags": []
          },
          "execution_count": 27
        }
      ]
    },
    {
      "cell_type": "code",
      "metadata": {
        "id": "PqScX7G6ENVK",
        "colab": {
          "base_uri": "https://localhost:8080/",
          "height": 320
        },
        "outputId": "12f7a477-60dd-46c3-9e09-04f1e3c8d6fc"
      },
      "source": [
        "df.plot(subplots = True)"
      ],
      "execution_count": 28,
      "outputs": [
        {
          "output_type": "execute_result",
          "data": {
            "text/plain": [
              "array([<matplotlib.axes._subplots.AxesSubplot object at 0x7f59d6692510>,\n",
              "       <matplotlib.axes._subplots.AxesSubplot object at 0x7f59d691e810>],\n",
              "      dtype=object)"
            ]
          },
          "metadata": {
            "tags": []
          },
          "execution_count": 28
        },
        {
          "output_type": "display_data",
          "data": {
            "image/png": "[encoded data removed]",
            "text/plain": [
              "<Figure size 432x288 with 2 Axes>"
            ]
          },
          "metadata": {
            "tags": [],
            "needs_background": "light"
          }
        }
      ]
    },
    {
      "cell_type": "code",
      "metadata": {
        "id": "r9HJk2Z5u-Wy"
      },
      "source": [
        "df['appl_returns'] = df['AAPL'].pct_change()\n",
        "df['msft_returns'] = df['MSFT'].pct_change()"
      ],
      "execution_count": 29,
      "outputs": []
    },
    {
      "cell_type": "code",
      "metadata": {
        "id": "nPGQp2xevZLY",
        "colab": {
          "base_uri": "https://localhost:8080/",
          "height": 235
        },
        "outputId": "f7bda298-872c-4484-f265-18c96da7d4be"
      },
      "source": [
        "df.head()"
      ],
      "execution_count": 30,
      "outputs": [
        {
          "output_type": "execute_result",
          "data": {
            "text/html": [
              "<div>\n",
              "<style scoped>\n",
              "    .dataframe tbody tr th:only-of-type {\n",
              "        vertical-align: middle;\n",
              "    }\n",
              "\n",
              "    .dataframe tbody tr th {\n",
              "        vertical-align: top;\n",
              "    }\n",
              "\n",
              "    .dataframe thead th {\n",
              "        text-align: right;\n",
              "    }\n",
              "</style>\n",
              "<table border=\"1\" class=\"dataframe\">\n",
              "  <thead>\n",
              "    <tr style=\"text-align: right;\">\n",
              "      <th>Symbols</th>\n",
              "      <th>AAPL</th>\n",
              "      <th>MSFT</th>\n",
              "      <th>appl_returns</th>\n",
              "      <th>msft_returns</th>\n",
              "    </tr>\n",
              "    <tr>\n",
              "      <th>Date</th>\n",
              "      <th></th>\n",
              "      <th></th>\n",
              "      <th></th>\n",
              "      <th></th>\n",
              "    </tr>\n",
              "  </thead>\n",
              "  <tbody>\n",
              "    <tr>\n",
              "      <th>2000-01-09</th>\n",
              "      <td>0.763932</td>\n",
              "      <td>35.389793</td>\n",
              "      <td>NaN</td>\n",
              "      <td>NaN</td>\n",
              "    </tr>\n",
              "    <tr>\n",
              "      <th>2000-01-16</th>\n",
              "      <td>0.771129</td>\n",
              "      <td>35.647823</td>\n",
              "      <td>0.009422</td>\n",
              "      <td>0.007291</td>\n",
              "    </tr>\n",
              "    <tr>\n",
              "      <th>2000-01-23</th>\n",
              "      <td>0.854625</td>\n",
              "      <td>32.948444</td>\n",
              "      <td>0.108277</td>\n",
              "      <td>-0.075724</td>\n",
              "    </tr>\n",
              "    <tr>\n",
              "      <th>2000-01-30</th>\n",
              "      <td>0.780247</td>\n",
              "      <td>31.201778</td>\n",
              "      <td>-0.087030</td>\n",
              "      <td>-0.053012</td>\n",
              "    </tr>\n",
              "    <tr>\n",
              "      <th>2000-02-06</th>\n",
              "      <td>0.829192</td>\n",
              "      <td>33.841614</td>\n",
              "      <td>0.062731</td>\n",
              "      <td>0.084605</td>\n",
              "    </tr>\n",
              "  </tbody>\n",
              "</table>\n",
              "</div>"
            ],
            "text/plain": [
              "Symbols         AAPL       MSFT  appl_returns  msft_returns\n",
              "Date                                                       \n",
              "2000-01-09  0.763932  35.389793           NaN           NaN\n",
              "2000-01-16  0.771129  35.647823      0.009422      0.007291\n",
              "2000-01-23  0.854625  32.948444      0.108277     -0.075724\n",
              "2000-01-30  0.780247  31.201778     -0.087030     -0.053012\n",
              "2000-02-06  0.829192  33.841614      0.062731      0.084605"
            ]
          },
          "metadata": {
            "tags": []
          },
          "execution_count": 30
        }
      ]
    },
    {
      "cell_type": "code",
      "metadata": {
        "id": "2zewxlhmv4G4"
      },
      "source": [
        "aapl_signal = [1  if df.iloc[i-1,2] > 0 else -1 for i in range(len(df))] #if previous week return is positive I buy and if negative I sell\n",
        "msft_signal =  [-1  if df.iloc[i-1,3] > 0 else 1 for i in range(len(df))]# if previous week return is positive I sell and if negative I buy"
      ],
      "execution_count": 31,
      "outputs": []
    },
    {
      "cell_type": "code",
      "metadata": {
        "id": "1WwecDRGuffZ"
      },
      "source": [
        "aapl_signal = pd.Series(aapl_signal, dtype = 'int', index=df.index, name = 'aapl_signal')\n",
        "msft_signal = pd.Series(msft_signal, dtype = 'int', index=df.index, name = 'msft_signal')"
      ],
      "execution_count": 32,
      "outputs": []
    },
    {
      "cell_type": "code",
      "metadata": {
        "id": "yP7KHQx3yVKe",
        "colab": {
          "base_uri": "https://localhost:8080/",
          "height": 235
        },
        "outputId": "c3464ced-906d-4fe4-d0cf-ef7e8f81221a"
      },
      "source": [
        "df = pd.concat([df,aapl_signal, msft_signal], axis = 1)\n",
        "df = df.dropna()\n",
        "df.head()"
      ],
      "execution_count": 33,
      "outputs": [
        {
          "output_type": "execute_result",
          "data": {
            "text/html": [
              "<div>\n",
              "<style scoped>\n",
              "    .dataframe tbody tr th:only-of-type {\n",
              "        vertical-align: middle;\n",
              "    }\n",
              "\n",
              "    .dataframe tbody tr th {\n",
              "        vertical-align: top;\n",
              "    }\n",
              "\n",
              "    .dataframe thead th {\n",
              "        text-align: right;\n",
              "    }\n",
              "</style>\n",
              "<table border=\"1\" class=\"dataframe\">\n",
              "  <thead>\n",
              "    <tr style=\"text-align: right;\">\n",
              "      <th></th>\n",
              "      <th>AAPL</th>\n",
              "      <th>MSFT</th>\n",
              "      <th>appl_returns</th>\n",
              "      <th>msft_returns</th>\n",
              "      <th>aapl_signal</th>\n",
              "      <th>msft_signal</th>\n",
              "    </tr>\n",
              "    <tr>\n",
              "      <th>Date</th>\n",
              "      <th></th>\n",
              "      <th></th>\n",
              "      <th></th>\n",
              "      <th></th>\n",
              "      <th></th>\n",
              "      <th></th>\n",
              "    </tr>\n",
              "  </thead>\n",
              "  <tbody>\n",
              "    <tr>\n",
              "      <th>2000-01-16</th>\n",
              "      <td>0.771129</td>\n",
              "      <td>35.647823</td>\n",
              "      <td>0.009422</td>\n",
              "      <td>0.007291</td>\n",
              "      <td>-1</td>\n",
              "      <td>1</td>\n",
              "    </tr>\n",
              "    <tr>\n",
              "      <th>2000-01-23</th>\n",
              "      <td>0.854625</td>\n",
              "      <td>32.948444</td>\n",
              "      <td>0.108277</td>\n",
              "      <td>-0.075724</td>\n",
              "      <td>1</td>\n",
              "      <td>-1</td>\n",
              "    </tr>\n",
              "    <tr>\n",
              "      <th>2000-01-30</th>\n",
              "      <td>0.780247</td>\n",
              "      <td>31.201778</td>\n",
              "      <td>-0.087030</td>\n",
              "      <td>-0.053012</td>\n",
              "      <td>1</td>\n",
              "      <td>1</td>\n",
              "    </tr>\n",
              "    <tr>\n",
              "      <th>2000-02-06</th>\n",
              "      <td>0.829192</td>\n",
              "      <td>33.841614</td>\n",
              "      <td>0.062731</td>\n",
              "      <td>0.084605</td>\n",
              "      <td>-1</td>\n",
              "      <td>1</td>\n",
              "    </tr>\n",
              "    <tr>\n",
              "      <th>2000-02-13</th>\n",
              "      <td>0.834950</td>\n",
              "      <td>31.737684</td>\n",
              "      <td>0.006944</td>\n",
              "      <td>-0.062170</td>\n",
              "      <td>1</td>\n",
              "      <td>-1</td>\n",
              "    </tr>\n",
              "  </tbody>\n",
              "</table>\n",
              "</div>"
            ],
            "text/plain": [
              "                AAPL       MSFT  ...  aapl_signal  msft_signal\n",
              "Date                             ...                          \n",
              "2000-01-16  0.771129  35.647823  ...           -1            1\n",
              "2000-01-23  0.854625  32.948444  ...            1           -1\n",
              "2000-01-30  0.780247  31.201778  ...            1            1\n",
              "2000-02-06  0.829192  33.841614  ...           -1            1\n",
              "2000-02-13  0.834950  31.737684  ...            1           -1\n",
              "\n",
              "[5 rows x 6 columns]"
            ]
          },
          "metadata": {
            "tags": []
          },
          "execution_count": 33
        }
      ]
    },
    {
      "cell_type": "code",
      "metadata": {
        "id": "YEe3dQzVz2Kz"
      },
      "source": [
        "df['Net_returns'] = df['appl_returns']*df['aapl_signal'] + df['msft_returns']*df['msft_signal']"
      ],
      "execution_count": 36,
      "outputs": []
    },
    {
      "cell_type": "code",
      "metadata": {
        "id": "kbJEl-vk0rqP"
      },
      "source": [
        "df['return'] = df['Net_returns'].add(1).cumprod() - 1"
      ],
      "execution_count": 37,
      "outputs": []
    },
    {
      "cell_type": "code",
      "metadata": {
        "id": "lSKbwUMC1ah9",
        "colab": {
          "base_uri": "https://localhost:8080/",
          "height": 282
        },
        "outputId": "ec40ed66-6152-4574-dde2-fa4020c6e334"
      },
      "source": [
        "plt.plot(df['return'])"
      ],
      "execution_count": 38,
      "outputs": [
        {
          "output_type": "execute_result",
          "data": {
            "text/plain": [
              "[<matplotlib.lines.Line2D at 0x7f59d57f69d0>]"
            ]
          },
          "metadata": {
            "tags": []
          },
          "execution_count": 38
        },
        {
          "output_type": "display_data",
          "data": {
            "image/png": "[encoded data removed]",
            "text/plain": [
              "<Figure size 432x288 with 1 Axes>"
            ]
          },
          "metadata": {
            "tags": [],
            "needs_background": "light"
          }
        }
      ]
    },
    {
      "cell_type": "markdown",
      "metadata": {
        "id": "oL0zU7c7HFzp"
      },
      "source": [
        "Eventhough the strategy returns seem very good, however there are huge transaction costs involved in this strategy that might bring down the total returns.\n"
      ]
    },
    {
      "cell_type": "code",
      "metadata": {
        "id": "D6NGjzxOHNLM"
      },
      "source": [
        ""
      ],
      "execution_count": null,
      "outputs": []
    }
  ]
}
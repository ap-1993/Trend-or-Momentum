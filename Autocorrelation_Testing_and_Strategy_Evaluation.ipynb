{
  "nbformat": 4,
  "nbformat_minor": 0,
  "metadata": {
    "colab": {
      "name": "Autocorrelation Testing and Strategy Evaluation.ipynb",
      "provenance": [],
      "toc_visible": true,
      "authorship_tag": "ABX9TyNLpYx+oy1O+/91pctGLtCg",
      "include_colab_link": true
    },
    "kernelspec": {
      "name": "python3",
      "display_name": "Python 3"
    }
  },
  "cells": [
    {
      "cell_type": "markdown",
      "metadata": {
        "id": "view-in-github",
        "colab_type": "text"
      },
      "source": [
        "<a href=\"https://colab.research.google.com/github/ap-1993/Trend-or-Momentum/blob/master/Autocorrelation_Testing_and_Strategy_Evaluation.ipynb\" target=\"_parent\"><img src=\"https://colab.research.google.com/assets/colab-badge.svg\" alt=\"Open In Colab\"/></a>"
      ]
    },
    {
      "cell_type": "code",
      "metadata": {
        "id": "-7LEzKblJwhq",
        "colab_type": "code",
        "outputId": "ce6a34a7-3305-43b7-a47b-dfc2dcdc1ad0",
        "colab": {
          "base_uri": "https://localhost:8080/",
          "height": 51
        }
      },
      "source": [
        "import numpy as np\n",
        "import pandas as pd\n",
        "import pandas_datareader as pdr\n",
        "import matplotlib.pyplot as plt\n",
        "import statsmodels.tsa.api as ts\n",
        "import statsmodels.graphics.tsaplots as tsplots \n",
        "from datetime import date"
      ],
      "execution_count": 0,
      "outputs": [
        {
          "output_type": "stream",
          "text": [
            "/usr/local/lib/python3.6/dist-packages/pandas_datareader/compat/__init__.py:7: FutureWarning: pandas.util.testing is deprecated. Use the functions in the public API at pandas.testing instead.\n",
            "  from pandas.util.testing import assert_frame_equal\n"
          ],
          "name": "stderr"
        }
      ]
    },
    {
      "cell_type": "code",
      "metadata": {
        "id": "i06RbYG6LMG5",
        "colab_type": "code",
        "colab": {}
      },
      "source": [
        "def nature(tick,start_date, freq):\n",
        "  \"\"\"\n",
        "  Given a ticker symbol(as string), start-date, the freq('D','W','M', 'A'),\n",
        "  returns whether the series is mean_reverting \n",
        "  or trending for the given frequency for the given\n",
        "  time-period on the basis of statistically significant \n",
        "  1 -lag autocorrelation. End date is taken to be present date.\n",
        "  Returns: A string containing the nature and the autocorrelation \n",
        "  \"\"\"\n",
        "  df = pdr.data.DataReader(tick, start = start_date, end = str(date.today()), data_source = 'yahoo')\n",
        "  df['returns'] = (np.log(df['Adj Close'])).diff()\n",
        "  df = df.dropna()\n",
        "  df = df[['returns']]\n",
        "  \n",
        "  if freq == 'D':\n",
        "\n",
        "    ac = df['returns'].autocorr()\n",
        "    if ac >= 1.96/np.sqrt(len(df)) or ac <= -1.96/np.sqrt(len(df)):\n",
        "      if ac > 0:\n",
        "        return \"The return series is trending with daily autocorrelation of {}\".format(str(ac))\n",
        "      else:\n",
        "        return \"The return series is mean_reverting with daily autocorrelation of {}\".format(str(ac))\n",
        "    else:\n",
        "      return \"No statistically significant autocorrelation\"\n",
        "  \n",
        "  elif freq == \"W\":\n",
        "    df = df.resample(rule = 'W').last()\n",
        "    ac = df['returns'].autocorr()\n",
        "    if ac >= 1.96/np.sqrt(len(df)) or ac <= -1.96/np.sqrt(len(df)):\n",
        "      if ac > 0:\n",
        "        return \"The return series is trending with weekly autocorrelation of {}\".format(str(ac))\n",
        "      else:\n",
        "        return \"The return series is mean_reverting with weekly autocorrelation of {}\".format(str(ac))\n",
        "    else:\n",
        "      return \"No statistically significant autocorrelation\"\n",
        "\n",
        "  elif freq == \"M\":\n",
        "    df = df.resample(rule = 'M').last()\n",
        "    ac = df['returns'].autocorr()\n",
        "    if ac >= 1.96/np.sqrt(len(df)) or ac <= -1.96/np.sqrt(len(df)):\n",
        "      if ac > 0:\n",
        "        return \"The return series is trending with monthly autocorrelation of {}\".format(str(ac))\n",
        "      else:\n",
        "        return \"The return series is mean_reverting with monthly autocorrelation of {}\".format(str(ac))\n",
        "    else:\n",
        "      return \"No statistically significant autocorrelation\"\n",
        "\n",
        "  else:\n",
        "    df = df.resample(rule = 'A').last()\n",
        "    ac = df['returns'].autocorr()\n",
        "    if ac >= 1.96/np.sqrt(len(df)) or ac <= -1.96/np.sqrt(len(df)):\n",
        "      if ac > 0:\n",
        "        return \"The return series is trending with annual autocorrelation of {}\".format(str(ac))\n",
        "      else:\n",
        "        return \"The return series is mean_reverting with annual autocorrelation of {}\".format(str(ac))\n",
        "    else:\n",
        "      return \"No statistically significant autocorrelation\"\n",
        "  \n"
      ],
      "execution_count": 0,
      "outputs": []
    },
    {
      "cell_type": "code",
      "metadata": {
        "id": "5QcogfO7n5GS",
        "colab_type": "code",
        "colab": {}
      },
      "source": [
        "def index(list_of_stocks, start_date, freq):\n",
        "  \"\"\"\n",
        "  Given a list of tickers, start date and frequency\n",
        "  calculates whether the series are trending or mean-reverting\n",
        "  Returns: A dataframe with ticker, nature of series, freq and autocorrelation.\n",
        "  \"\"\"\n",
        "  list_tickers = []\n",
        "  list_nature = []\n",
        "  list_freq = []\n",
        "  list_ac = []\n",
        "  for i in list_of_stocks:    \n",
        "    nat = nature(i,start_date, freq).split()\n",
        "    if 'No' not in nat:\n",
        "      list_tickers.append(i)\n",
        "      list_nature.append(nat[4].capitalize())\n",
        "      list_freq.append(freq)\n",
        "      list_ac.append(np.float(nat[9]))\n",
        "  return pd.DataFrame({\"Ticker\": list_tickers,\n",
        "                       \"Nature\": list_nature,\n",
        "                       \"Frequency\": list_freq\n",
        "                       }, columns = ['Ticker', 'Nature', 'Frequency']).join(pd.Series(list_ac, name = \"Auto-Correlation\"))"
      ],
      "execution_count": 0,
      "outputs": []
    },
    {
      "cell_type": "code",
      "metadata": {
        "id": "WejFbzZzNj8p",
        "colab_type": "code",
        "outputId": "e39b2525-75d4-4890-ed2e-f3fe4d38853e",
        "colab": {
          "base_uri": "https://localhost:8080/",
          "height": 111
        }
      },
      "source": [
        "auto_corrs = index(['AAPL', 'GOOG', 'MSFT', 'GC=F'], start_date='2000-01-01', freq = 'W')\n",
        "auto_corrs"
      ],
      "execution_count": 0,
      "outputs": [
        {
          "output_type": "execute_result",
          "data": {
            "text/html": [
              "<div>\n",
              "<style scoped>\n",
              "    .dataframe tbody tr th:only-of-type {\n",
              "        vertical-align: middle;\n",
              "    }\n",
              "\n",
              "    .dataframe tbody tr th {\n",
              "        vertical-align: top;\n",
              "    }\n",
              "\n",
              "    .dataframe thead th {\n",
              "        text-align: right;\n",
              "    }\n",
              "</style>\n",
              "<table border=\"1\" class=\"dataframe\">\n",
              "  <thead>\n",
              "    <tr style=\"text-align: right;\">\n",
              "      <th></th>\n",
              "      <th>Ticker</th>\n",
              "      <th>Nature</th>\n",
              "      <th>Frequency</th>\n",
              "      <th>Auto-Correlation</th>\n",
              "    </tr>\n",
              "  </thead>\n",
              "  <tbody>\n",
              "    <tr>\n",
              "      <th>0</th>\n",
              "      <td>AAPL</td>\n",
              "      <td>Trending</td>\n",
              "      <td>W</td>\n",
              "      <td>0.074878</td>\n",
              "    </tr>\n",
              "    <tr>\n",
              "      <th>1</th>\n",
              "      <td>MSFT</td>\n",
              "      <td>Mean_reverting</td>\n",
              "      <td>W</td>\n",
              "      <td>-0.106298</td>\n",
              "    </tr>\n",
              "  </tbody>\n",
              "</table>\n",
              "</div>"
            ],
            "text/plain": [
              "  Ticker          Nature Frequency  Auto-Correlation\n",
              "0   AAPL        Trending         W          0.074878\n",
              "1   MSFT  Mean_reverting         W         -0.106298"
            ]
          },
          "metadata": {
            "tags": []
          },
          "execution_count": 8
        }
      ]
    },
    {
      "cell_type": "markdown",
      "metadata": {
        "id": "6wdDZhiI_Q0G",
        "colab_type": "text"
      },
      "source": [
        "This means on the weekly level only MSFT and AAPL show statistically significant lag-1 auto-correlation. \n",
        " \n",
        "\n",
        "*   Negative autocorrelation means mean-reversion\n",
        "*   Positive autocorrelation means trending\n",
        "\n"
      ]
    },
    {
      "cell_type": "markdown",
      "metadata": {
        "id": "kbxqiDbNtXOR",
        "colab_type": "text"
      },
      "source": [
        "#Back Testing the correlation using a momentum and mean-reverting strategy"
      ]
    },
    {
      "cell_type": "code",
      "metadata": {
        "id": "hNP0wPofOXzO",
        "colab_type": "code",
        "colab": {}
      },
      "source": [
        "df = pdr.data.DataReader([\"AAPL\", \"MSFT\"], \n",
        "                       start='2000-1-1', \n",
        "                       end = str(date.today()), \n",
        "                       data_source='yahoo')['Adj Close']"
      ],
      "execution_count": 0,
      "outputs": []
    },
    {
      "cell_type": "code",
      "metadata": {
        "id": "v7DkfR1qwknR",
        "colab_type": "code",
        "outputId": "e906164b-573e-434a-d500-78dace69d9ad",
        "colab": {
          "base_uri": "https://localhost:8080/",
          "height": 235
        }
      },
      "source": [
        "df.index = pd.to_datetime(df.index)\n",
        "df = df.resample(rule = 'W').last()\n",
        "df.head()"
      ],
      "execution_count": 0,
      "outputs": [
        {
          "output_type": "execute_result",
          "data": {
            "text/html": [
              "<div>\n",
              "<style scoped>\n",
              "    .dataframe tbody tr th:only-of-type {\n",
              "        vertical-align: middle;\n",
              "    }\n",
              "\n",
              "    .dataframe tbody tr th {\n",
              "        vertical-align: top;\n",
              "    }\n",
              "\n",
              "    .dataframe thead th {\n",
              "        text-align: right;\n",
              "    }\n",
              "</style>\n",
              "<table border=\"1\" class=\"dataframe\">\n",
              "  <thead>\n",
              "    <tr style=\"text-align: right;\">\n",
              "      <th>Symbols</th>\n",
              "      <th>AAPL</th>\n",
              "      <th>MSFT</th>\n",
              "    </tr>\n",
              "    <tr>\n",
              "      <th>Date</th>\n",
              "      <th></th>\n",
              "      <th></th>\n",
              "    </tr>\n",
              "  </thead>\n",
              "  <tbody>\n",
              "    <tr>\n",
              "      <th>2000-01-09</th>\n",
              "      <td>3.076317</td>\n",
              "      <td>35.650139</td>\n",
              "    </tr>\n",
              "    <tr>\n",
              "      <th>2000-01-16</th>\n",
              "      <td>3.105303</td>\n",
              "      <td>35.910065</td>\n",
              "    </tr>\n",
              "    <tr>\n",
              "      <th>2000-01-23</th>\n",
              "      <td>3.441533</td>\n",
              "      <td>33.190834</td>\n",
              "    </tr>\n",
              "    <tr>\n",
              "      <th>2000-01-30</th>\n",
              "      <td>3.142018</td>\n",
              "      <td>31.431328</td>\n",
              "    </tr>\n",
              "    <tr>\n",
              "      <th>2000-02-06</th>\n",
              "      <td>3.339118</td>\n",
              "      <td>34.090569</td>\n",
              "    </tr>\n",
              "  </tbody>\n",
              "</table>\n",
              "</div>"
            ],
            "text/plain": [
              "Symbols         AAPL       MSFT\n",
              "Date                           \n",
              "2000-01-09  3.076317  35.650139\n",
              "2000-01-16  3.105303  35.910065\n",
              "2000-01-23  3.441533  33.190834\n",
              "2000-01-30  3.142018  31.431328\n",
              "2000-02-06  3.339118  34.090569"
            ]
          },
          "metadata": {
            "tags": []
          },
          "execution_count": 94
        }
      ]
    },
    {
      "cell_type": "code",
      "metadata": {
        "id": "PqScX7G6ENVK",
        "colab_type": "code",
        "outputId": "c7461ae6-5ea8-4a8a-c479-34dbdadf9ccc",
        "colab": {
          "base_uri": "https://localhost:8080/",
          "height": 320
        }
      },
      "source": [
        "df.plot(subplots = True)"
      ],
      "execution_count": 0,
      "outputs": [
        {
          "output_type": "execute_result",
          "data": {
            "text/plain": [
              "array([<matplotlib.axes._subplots.AxesSubplot object at 0x7f9112d95da0>,\n",
              "       <matplotlib.axes._subplots.AxesSubplot object at 0x7f9112dc32e8>],\n",
              "      dtype=object)"
            ]
          },
          "metadata": {
            "tags": []
          },
          "execution_count": 95
        },
        {
          "output_type": "display_data",
          "data": {
            "image/png": "[encoded data removed]",
            "text/plain": [
              "<Figure size 432x288 with 2 Axes>"
            ]
          },
          "metadata": {
            "tags": [],
            "needs_background": "light"
          }
        }
      ]
    },
    {
      "cell_type": "code",
      "metadata": {
        "id": "r9HJk2Z5u-Wy",
        "colab_type": "code",
        "colab": {}
      },
      "source": [
        "df['appl_returns'] = df['AAPL'].pct_change()\n",
        "df['msft_returns'] = df['MSFT'].pct_change()"
      ],
      "execution_count": 0,
      "outputs": []
    },
    {
      "cell_type": "code",
      "metadata": {
        "id": "nPGQp2xevZLY",
        "colab_type": "code",
        "outputId": "80b2452f-f874-4ded-95e5-f1de66025c78",
        "colab": {
          "base_uri": "https://localhost:8080/",
          "height": 235
        }
      },
      "source": [
        "df.head()"
      ],
      "execution_count": 0,
      "outputs": [
        {
          "output_type": "execute_result",
          "data": {
            "text/html": [
              "<div>\n",
              "<style scoped>\n",
              "    .dataframe tbody tr th:only-of-type {\n",
              "        vertical-align: middle;\n",
              "    }\n",
              "\n",
              "    .dataframe tbody tr th {\n",
              "        vertical-align: top;\n",
              "    }\n",
              "\n",
              "    .dataframe thead th {\n",
              "        text-align: right;\n",
              "    }\n",
              "</style>\n",
              "<table border=\"1\" class=\"dataframe\">\n",
              "  <thead>\n",
              "    <tr style=\"text-align: right;\">\n",
              "      <th>Symbols</th>\n",
              "      <th>AAPL</th>\n",
              "      <th>MSFT</th>\n",
              "      <th>appl_returns</th>\n",
              "      <th>msft_returns</th>\n",
              "    </tr>\n",
              "    <tr>\n",
              "      <th>Date</th>\n",
              "      <th></th>\n",
              "      <th></th>\n",
              "      <th></th>\n",
              "      <th></th>\n",
              "    </tr>\n",
              "  </thead>\n",
              "  <tbody>\n",
              "    <tr>\n",
              "      <th>2000-01-09</th>\n",
              "      <td>3.076317</td>\n",
              "      <td>35.650139</td>\n",
              "      <td>NaN</td>\n",
              "      <td>NaN</td>\n",
              "    </tr>\n",
              "    <tr>\n",
              "      <th>2000-01-16</th>\n",
              "      <td>3.105303</td>\n",
              "      <td>35.910065</td>\n",
              "      <td>0.009422</td>\n",
              "      <td>0.007291</td>\n",
              "    </tr>\n",
              "    <tr>\n",
              "      <th>2000-01-23</th>\n",
              "      <td>3.441533</td>\n",
              "      <td>33.190834</td>\n",
              "      <td>0.108276</td>\n",
              "      <td>-0.075723</td>\n",
              "    </tr>\n",
              "    <tr>\n",
              "      <th>2000-01-30</th>\n",
              "      <td>3.142018</td>\n",
              "      <td>31.431328</td>\n",
              "      <td>-0.087030</td>\n",
              "      <td>-0.053012</td>\n",
              "    </tr>\n",
              "    <tr>\n",
              "      <th>2000-02-06</th>\n",
              "      <td>3.339118</td>\n",
              "      <td>34.090569</td>\n",
              "      <td>0.062731</td>\n",
              "      <td>0.084605</td>\n",
              "    </tr>\n",
              "  </tbody>\n",
              "</table>\n",
              "</div>"
            ],
            "text/plain": [
              "Symbols         AAPL       MSFT  appl_returns  msft_returns\n",
              "Date                                                       \n",
              "2000-01-09  3.076317  35.650139           NaN           NaN\n",
              "2000-01-16  3.105303  35.910065      0.009422      0.007291\n",
              "2000-01-23  3.441533  33.190834      0.108276     -0.075723\n",
              "2000-01-30  3.142018  31.431328     -0.087030     -0.053012\n",
              "2000-02-06  3.339118  34.090569      0.062731      0.084605"
            ]
          },
          "metadata": {
            "tags": []
          },
          "execution_count": 97
        }
      ]
    },
    {
      "cell_type": "code",
      "metadata": {
        "id": "2zewxlhmv4G4",
        "colab_type": "code",
        "colab": {}
      },
      "source": [
        "aapl_signal = [1  if df.iloc[i-1,2] > 0 else -1 for i in range(len(df))] #if previous week return is positive I buy and if negative I sell\n",
        "msft_signal =  [-1  if df.iloc[i-1,3] > 0 else 1 for i in range(len(df))]# if previous week return is positive I sell and if negative I buy"
      ],
      "execution_count": 0,
      "outputs": []
    },
    {
      "cell_type": "code",
      "metadata": {
        "id": "1WwecDRGuffZ",
        "colab_type": "code",
        "colab": {}
      },
      "source": [
        "aapl_signal = pd.Series(aapl_signal, dtype = 'int', index=df.index, name = 'aapl_signal')\n",
        "msft_signal = pd.Series(msft_signal, dtype = 'int', index=df.index, name = 'msft_signal')"
      ],
      "execution_count": 0,
      "outputs": []
    },
    {
      "cell_type": "code",
      "metadata": {
        "id": "yP7KHQx3yVKe",
        "colab_type": "code",
        "outputId": "fd2be0ee-b1c7-4d63-9198-861bba17c6ab",
        "colab": {
          "base_uri": "https://localhost:8080/",
          "height": 235
        }
      },
      "source": [
        "df = pd.concat([df,aapl_signal, msft_signal], axis = 1)\n",
        "df = df.dropna()\n",
        "df.head()"
      ],
      "execution_count": 0,
      "outputs": [
        {
          "output_type": "execute_result",
          "data": {
            "text/html": [
              "<div>\n",
              "<style scoped>\n",
              "    .dataframe tbody tr th:only-of-type {\n",
              "        vertical-align: middle;\n",
              "    }\n",
              "\n",
              "    .dataframe tbody tr th {\n",
              "        vertical-align: top;\n",
              "    }\n",
              "\n",
              "    .dataframe thead th {\n",
              "        text-align: right;\n",
              "    }\n",
              "</style>\n",
              "<table border=\"1\" class=\"dataframe\">\n",
              "  <thead>\n",
              "    <tr style=\"text-align: right;\">\n",
              "      <th></th>\n",
              "      <th>AAPL</th>\n",
              "      <th>MSFT</th>\n",
              "      <th>appl_returns</th>\n",
              "      <th>msft_returns</th>\n",
              "      <th>aapl_signal</th>\n",
              "      <th>msft_signal</th>\n",
              "    </tr>\n",
              "    <tr>\n",
              "      <th>Date</th>\n",
              "      <th></th>\n",
              "      <th></th>\n",
              "      <th></th>\n",
              "      <th></th>\n",
              "      <th></th>\n",
              "      <th></th>\n",
              "    </tr>\n",
              "  </thead>\n",
              "  <tbody>\n",
              "    <tr>\n",
              "      <th>2000-01-16</th>\n",
              "      <td>3.105303</td>\n",
              "      <td>35.910065</td>\n",
              "      <td>0.009422</td>\n",
              "      <td>0.007291</td>\n",
              "      <td>-1</td>\n",
              "      <td>1</td>\n",
              "    </tr>\n",
              "    <tr>\n",
              "      <th>2000-01-23</th>\n",
              "      <td>3.441533</td>\n",
              "      <td>33.190834</td>\n",
              "      <td>0.108276</td>\n",
              "      <td>-0.075723</td>\n",
              "      <td>1</td>\n",
              "      <td>-1</td>\n",
              "    </tr>\n",
              "    <tr>\n",
              "      <th>2000-01-30</th>\n",
              "      <td>3.142018</td>\n",
              "      <td>31.431328</td>\n",
              "      <td>-0.087030</td>\n",
              "      <td>-0.053012</td>\n",
              "      <td>1</td>\n",
              "      <td>1</td>\n",
              "    </tr>\n",
              "    <tr>\n",
              "      <th>2000-02-06</th>\n",
              "      <td>3.339118</td>\n",
              "      <td>34.090569</td>\n",
              "      <td>0.062731</td>\n",
              "      <td>0.084605</td>\n",
              "      <td>-1</td>\n",
              "      <td>1</td>\n",
              "    </tr>\n",
              "    <tr>\n",
              "      <th>2000-02-13</th>\n",
              "      <td>3.362307</td>\n",
              "      <td>31.971157</td>\n",
              "      <td>0.006944</td>\n",
              "      <td>-0.062170</td>\n",
              "      <td>1</td>\n",
              "      <td>-1</td>\n",
              "    </tr>\n",
              "  </tbody>\n",
              "</table>\n",
              "</div>"
            ],
            "text/plain": [
              "                AAPL       MSFT  ...  aapl_signal  msft_signal\n",
              "Date                             ...                          \n",
              "2000-01-16  3.105303  35.910065  ...           -1            1\n",
              "2000-01-23  3.441533  33.190834  ...            1           -1\n",
              "2000-01-30  3.142018  31.431328  ...            1            1\n",
              "2000-02-06  3.339118  34.090569  ...           -1            1\n",
              "2000-02-13  3.362307  31.971157  ...            1           -1\n",
              "\n",
              "[5 rows x 6 columns]"
            ]
          },
          "metadata": {
            "tags": []
          },
          "execution_count": 100
        }
      ]
    },
    {
      "cell_type": "code",
      "metadata": {
        "id": "YEe3dQzVz2Kz",
        "colab_type": "code",
        "colab": {}
      },
      "source": [
        "df['Net_cashflow'] = df['AAPL']*df['aapl_signal'] + df['MSFT']*df['msft_signal']"
      ],
      "execution_count": 0,
      "outputs": []
    },
    {
      "cell_type": "code",
      "metadata": {
        "id": "kbJEl-vk0rqP",
        "colab_type": "code",
        "colab": {}
      },
      "source": [
        "df['return'] = df['Net_cashflow'].cumsum()"
      ],
      "execution_count": 0,
      "outputs": []
    },
    {
      "cell_type": "code",
      "metadata": {
        "id": "lSKbwUMC1ah9",
        "colab_type": "code",
        "outputId": "4f538431-f267-4899-b5b3-22c63b23397a",
        "colab": {
          "base_uri": "https://localhost:8080/",
          "height": 286
        }
      },
      "source": [
        "plt.plot(df['return'])"
      ],
      "execution_count": 0,
      "outputs": [
        {
          "output_type": "execute_result",
          "data": {
            "text/plain": [
              "[<matplotlib.lines.Line2D at 0x7f9112d46da0>]"
            ]
          },
          "metadata": {
            "tags": []
          },
          "execution_count": 103
        },
        {
          "output_type": "display_data",
          "data": {
            "image/png": "[encoded data removed]",
            "text/plain": [
              "<Figure size 432x288 with 1 Axes>"
            ]
          },
          "metadata": {
            "tags": [],
            "needs_background": "light"
          }
        }
      ]
    },
    {
      "cell_type": "markdown",
      "metadata": {
        "id": "oL0zU7c7HFzp",
        "colab_type": "text"
      },
      "source": [
        "Eventhough the strategy returns seem very good, however there are huge transaction costs involved in this strategy that might bring down the total returns.\n"
      ]
    },
    {
      "cell_type": "code",
      "metadata": {
        "id": "D6NGjzxOHNLM",
        "colab_type": "code",
        "colab": {}
      },
      "source": [
        ""
      ],
      "execution_count": 0,
      "outputs": []
    }
  ]
}